{
  "nbformat": 4,
  "nbformat_minor": 0,
  "metadata": {
    "colab": {
      "provenance": []
    },
    "kernelspec": {
      "name": "python3",
      "display_name": "Python 3"
    },
    "language_info": {
      "name": "python"
    }
  },
  "cells": [
    {
      "cell_type": "code",
      "execution_count": 2,
      "metadata": {
        "colab": {
          "base_uri": "https://localhost:8080/"
        },
        "id": "SlacrhCwH_i4",
        "outputId": "2564b4e7-aebd-4329-9baa-7f871b45e885"
      },
      "outputs": [
        {
          "output_type": "stream",
          "name": "stdout",
          "text": [
            "     Name      Surname  Age  Smokes  AreaQ  Alkhol  Result\n",
            "0    John         Wick   35       3      5       4       1\n",
            "1    John  Constantine   27      20      2       5       1\n",
            "2  Camela     Anderson   30       0      5       2       0\n",
            "3    Alex       Telles   28       0      8       1       0\n",
            "4   Diego     Maradona   68       4      5       6       1\n",
            "<class 'pandas.core.frame.DataFrame'>\n",
            "RangeIndex: 59 entries, 0 to 58\n",
            "Data columns (total 7 columns):\n",
            " #   Column   Non-Null Count  Dtype \n",
            "---  ------   --------------  ----- \n",
            " 0   Name     59 non-null     object\n",
            " 1   Surname  59 non-null     object\n",
            " 2   Age      59 non-null     int64 \n",
            " 3   Smokes   59 non-null     int64 \n",
            " 4   AreaQ    59 non-null     int64 \n",
            " 5   Alkhol   59 non-null     int64 \n",
            " 6   Result   59 non-null     int64 \n",
            "dtypes: int64(5), object(2)\n",
            "memory usage: 3.4+ KB\n",
            "None\n",
            "Name       0\n",
            "Surname    0\n",
            "Age        0\n",
            "Smokes     0\n",
            "AreaQ      0\n",
            "Alkhol     0\n",
            "Result     0\n",
            "dtype: int64\n"
          ]
        }
      ],
      "source": [
        "# Import necessary libraries\n",
        "import pandas as pd\n",
        "from sklearn.model_selection import train_test_split\n",
        "from sklearn.preprocessing import StandardScaler\n",
        "from sklearn.tree import DecisionTreeClassifier\n",
        "from sklearn.metrics import accuracy_score, precision_score, recall_score, f1_score, confusion_matrix, classification_report\n",
        "from sklearn.decomposition import PCA\n",
        "import matplotlib.pyplot as plt\n",
        "import seaborn as sns\n",
        "\n",
        "# Load dataset\n",
        "df = pd.read_csv(\"Lung_Cancer_dataset.csv\")\n",
        "\n",
        "# Inspect dataset\n",
        "print(df.head())\n",
        "print(df.info())\n",
        "print(df.isnull().sum())\n"
      ]
    },
    {
      "cell_type": "code",
      "source": [
        "# Handle missing values (fill numerical with median)\n",
        "num_cols = ['Age', 'Smokes', 'AreaQ', 'Alkhol']\n",
        "for col in num_cols:\n",
        "    df[col] = df[col].fillna(df[col].median())\n",
        "\n",
        "# Drop irrelevant columns\n",
        "df = df.drop(['Name', 'Surname'], axis=1)\n",
        "\n",
        "# Separate features and target\n",
        "X = df.drop('Result', axis=1)\n",
        "y = df['Result']\n",
        "\n",
        "# Scale features\n",
        "scaler = StandardScaler()\n",
        "X_scaled = scaler.fit_transform(X)\n",
        "\n",
        "# Train-test split\n",
        "X_train, X_test, y_train, y_test = train_test_split(\n",
        "    X_scaled, y, test_size=0.2, random_state=42, stratify=y\n",
        ")\n",
        "\n",
        "print(\"Preprocessing complete!\")\n",
        "print(\"Training set shape:\", X_train.shape)\n",
        "print(\"Test set shape:\", X_test.shape)\n"
      ],
      "metadata": {
        "colab": {
          "base_uri": "https://localhost:8080/"
        },
        "id": "QcvuHFwZIOQa",
        "outputId": "ad9eb020-0c76-4ab7-a7ea-5485d8605d3b"
      },
      "execution_count": 3,
      "outputs": [
        {
          "output_type": "stream",
          "name": "stdout",
          "text": [
            "Preprocessing complete!\n",
            "Training set shape: (47, 4)\n",
            "Test set shape: (12, 4)\n"
          ]
        }
      ]
    },
    {
      "cell_type": "code",
      "source": [
        "# Initialize and train Decision Tree\n",
        "dt_model = DecisionTreeClassifier(random_state=42)\n",
        "dt_model.fit(X_train, y_train)\n",
        "\n",
        "# Make predictions\n",
        "y_pred = dt_model.predict(X_test)\n",
        "\n",
        "# Evaluate performance\n",
        "accuracy = accuracy_score(y_test, y_pred)\n",
        "precision = precision_score(y_test, y_pred)\n",
        "recall = recall_score(y_test, y_pred)\n",
        "f1 = f1_score(y_test, y_pred)\n",
        "conf_matrix = confusion_matrix(y_test, y_pred)\n",
        "\n",
        "print(\"Decision Tree Evaluation Metrics:\")\n",
        "print(f\"Accuracy : {accuracy:.2f}\")\n",
        "print(f\"Precision: {precision:.2f}\")\n",
        "print(f\"Recall   : {recall:.2f}\")\n",
        "print(f\"F1-Score : {f1:.2f}\")\n",
        "print(\"\\nConfusion Matrix:\")\n",
        "print(conf_matrix)\n",
        "print(\"\\nClassification Report:\")\n",
        "print(classification_report(y_test, y_pred))\n"
      ],
      "metadata": {
        "colab": {
          "base_uri": "https://localhost:8080/"
        },
        "id": "w0R-AD7IJRjP",
        "outputId": "6f7adff3-1e50-43a0-f070-71c144fee10a"
      },
      "execution_count": 4,
      "outputs": [
        {
          "output_type": "stream",
          "name": "stdout",
          "text": [
            "Decision Tree Evaluation Metrics:\n",
            "Accuracy : 1.00\n",
            "Precision: 1.00\n",
            "Recall   : 1.00\n",
            "F1-Score : 1.00\n",
            "\n",
            "Confusion Matrix:\n",
            "[[6 0]\n",
            " [0 6]]\n",
            "\n",
            "Classification Report:\n",
            "              precision    recall  f1-score   support\n",
            "\n",
            "           0       1.00      1.00      1.00         6\n",
            "           1       1.00      1.00      1.00         6\n",
            "\n",
            "    accuracy                           1.00        12\n",
            "   macro avg       1.00      1.00      1.00        12\n",
            "weighted avg       1.00      1.00      1.00        12\n",
            "\n"
          ]
        }
      ]
    },
    {
      "cell_type": "code",
      "source": [
        "# Feature importance\n",
        "importances = dt_model.feature_importances_\n",
        "features = X.columns\n",
        "\n",
        "feature_importance_df = pd.DataFrame({'Feature': features, 'Importance': importances})\n",
        "feature_importance_df = feature_importance_df.sort_values(by='Importance', ascending=False)\n",
        "\n",
        "# Plot feature importance\n",
        "plt.figure(figsize=(8,4))\n",
        "sns.barplot(x='Importance', y='Feature', data=feature_importance_df)\n",
        "plt.title(\"Feature Importance - Decision Tree\")\n",
        "plt.show()\n"
      ],
      "metadata": {
        "colab": {
          "base_uri": "https://localhost:8080/",
          "height": 410
        },
        "id": "3VLCKCwGL-RC",
        "outputId": "10e43f45-c314-459a-8b5d-88e706f2dc2d"
      },
      "execution_count": 5,
      "outputs": [
        {
          "output_type": "display_data",
          "data": {
            "text/plain": [
              "<Figure size 800x400 with 1 Axes>"
            ],
            "image/png": "[encoded data removed]"
          },
          "metadata": {}
        }
      ]
    },
    {
      "cell_type": "code",
      "source": [
        "# Apply PCA (retain ≥95% variance)\n",
        "pca = PCA(n_components=0.95, random_state=42)\n",
        "X_train_pca = pca.fit_transform(X_train)\n",
        "X_test_pca = pca.transform(X_test)\n",
        "\n",
        "print(f\"Original features: {X_train.shape[1]}\")\n",
        "print(f\"Reduced features after PCA: {X_train_pca.shape[1]}\")\n",
        "\n",
        "# Retrain Decision Tree on PCA-transformed data\n",
        "dt_model_pca = DecisionTreeClassifier(random_state=42)\n",
        "dt_model_pca.fit(X_train_pca, y_train)\n",
        "\n",
        "# Predictions\n",
        "y_pred_pca = dt_model_pca.predict(X_test_pca)\n",
        "\n",
        "# Evaluate\n",
        "accuracy_pca = accuracy_score(y_test, y_pred_pca)\n",
        "precision_pca = precision_score(y_test, y_pred_pca)\n",
        "recall_pca = recall_score(y_test, y_pred_pca)\n",
        "f1_pca = f1_score(y_test, y_pred_pca)\n",
        "conf_matrix_pca = confusion_matrix(y_test, y_pred_pca)\n",
        "\n",
        "print(\"\\nDecision Tree after PCA Evaluation Metrics:\")\n",
        "print(f\"Accuracy : {accuracy_pca:.2f}\")\n",
        "print(f\"Precision: {precision_pca:.2f}\")\n",
        "print(f\"Recall   : {recall_pca:.2f}\")\n",
        "print(f\"F1-Score : {f1_pca:.2f}\")\n",
        "print(\"\\nConfusion Matrix:\")\n",
        "print(conf_matrix_pca)\n",
        "print(\"\\nClassification Report:\")\n",
        "print(classification_report(y_test, y_pred_pca))\n"
      ],
      "metadata": {
        "colab": {
          "base_uri": "https://localhost:8080/"
        },
        "id": "BE-XCVaZNBQ_",
        "outputId": "002d9f78-ea00-4ce4-f220-098cc968e241"
      },
      "execution_count": 6,
      "outputs": [
        {
          "output_type": "stream",
          "name": "stdout",
          "text": [
            "Original features: 4\n",
            "Reduced features after PCA: 4\n",
            "\n",
            "Decision Tree after PCA Evaluation Metrics:\n",
            "Accuracy : 0.92\n",
            "Precision: 0.86\n",
            "Recall   : 1.00\n",
            "F1-Score : 0.92\n",
            "\n",
            "Confusion Matrix:\n",
            "[[5 1]\n",
            " [0 6]]\n",
            "\n",
            "Classification Report:\n",
            "              precision    recall  f1-score   support\n",
            "\n",
            "           0       1.00      0.83      0.91         6\n",
            "           1       0.86      1.00      0.92         6\n",
            "\n",
            "    accuracy                           0.92        12\n",
            "   macro avg       0.93      0.92      0.92        12\n",
            "weighted avg       0.93      0.92      0.92        12\n",
            "\n"
          ]
        }
      ]
    },
    {
      "cell_type": "code",
      "source": [
        "# Comparison table\n",
        "import pandas as pd\n",
        "\n",
        "comparison = pd.DataFrame({\n",
        "    'Metric': ['Accuracy', 'Precision', 'Recall', 'F1-Score'],\n",
        "    'Baseline DT': [accuracy, precision, recall, f1],\n",
        "    'DT with PCA': [accuracy_pca, precision_pca, recall_pca, f1_pca]\n",
        "})\n",
        "\n",
        "print(\"Performance Comparison:\")\n",
        "print(comparison)\n"
      ],
      "metadata": {
        "colab": {
          "base_uri": "https://localhost:8080/"
        },
        "id": "HCE9KmfAPwQX",
        "outputId": "13d5ce0d-8927-473f-e029-35beb5643399"
      },
      "execution_count": 7,
      "outputs": [
        {
          "output_type": "stream",
          "name": "stdout",
          "text": [
            "Performance Comparison:\n",
            "      Metric  Baseline DT  DT with PCA\n",
            "0   Accuracy          1.0     0.916667\n",
            "1  Precision          1.0     0.857143\n",
            "2     Recall          1.0     1.000000\n",
            "3   F1-Score          1.0     0.923077\n"
          ]
        }
      ]
    },
    {
      "cell_type": "code",
      "source": [],
      "metadata": {
        "id": "Boi8BVlsPx1p"
      },
      "execution_count": 7,
      "outputs": []
    }
  ]
}